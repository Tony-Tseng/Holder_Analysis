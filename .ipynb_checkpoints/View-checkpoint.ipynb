{
 "cells": [
  {
   "cell_type": "code",
   "execution_count": 1,
   "id": "bcdb3e7a",
   "metadata": {},
   "outputs": [],
   "source": [
    "from dash import Dash, dcc, html\n",
    "from dash.dependencies import Input, Output\n",
    "import dash_bootstrap_components as dbc\n",
    "import pandas as pd\n",
    "from utils import *\n",
    "from datetime import datetime\n",
    "\n",
    "import utils"
   ]
  },
  {
   "cell_type": "code",
   "execution_count": 2,
   "id": "b33a7b6e",
   "metadata": {},
   "outputs": [],
   "source": [
    "external_stylesheets = [dbc.themes.DARKLY]\n",
    "\n",
    "app = Dash(__name__, external_stylesheets=external_stylesheets)\n",
    "\n",
    "DISPLAY_LIMIT = 15"
   ]
  },
  {
   "cell_type": "code",
   "execution_count": 3,
   "id": "e8d1cf34",
   "metadata": {},
   "outputs": [],
   "source": [
    "interest_addr = \"0x1919db36ca2fa2e15f9000fd9cdc2edcf863e685\"\n",
    "contract_addr = \"0xb47e3cd837ddf8e4c57f05d70ab865de6e193bbb\"\n",
    "\n",
    "balance_plot = get_balance_plot(interest_addr)\n",
    "distribution_plot = get_balance_distribution(contract_addr)\n",
    "erc20_table_plot, erc20_bar_plot = get_wallet_erc20_plot(interest_addr)\n",
    "\n",
    "\n",
    "nft_table_plot = get_wallet_nft_table(interest_addr)\n",
    "nft_line_plot = get_wallet_nft_plot(interest_addr, contract_addr)"
   ]
  },
  {
   "cell_type": "code",
   "execution_count": 4,
   "id": "2f80cf17",
   "metadata": {},
   "outputs": [],
   "source": [
    "_, erc20_bar_init = get_wallet_erc20_plot(interest_addr)\n",
    "\n",
    "erc20_table_init = pd.DataFrame({\n",
    "    \"Erc20\": [\"tmp\"],\n",
    "    \"Erc20 Holding Num\": [1],\n",
    "    \"Erc20 Price\": [1]\n",
    "})"
   ]
  },
  {
   "cell_type": "code",
   "execution_count": 5,
   "id": "e72345de",
   "metadata": {},
   "outputs": [],
   "source": [
    "# app.layout = html.Div([\n",
    "#     html.Div(\n",
    "#         [html.H5('R10944033 analyze tool')],\n",
    "#         style={\n",
    "#             \"display\": \"flex\",\n",
    "#             \"flex-direction\": \"row\",\n",
    "#             \"justify-content\": \"center\",\n",
    "#             \"background-color\": \"#2fa5ba\"\n",
    "#         }),\n",
    "#     html.Div(\n",
    "#         [\n",
    "#             html.H1('Analysis of akaswap'),\n",
    "#             html.Div([\n",
    "# #                 html.H3('Analysis on NFT'),\n",
    "# #                 html.H4('Please input tokenID'),\n",
    "# #                 dbc.Input(id=\"NFT_address_input\",\n",
    "# #                           placeholder='Enter Address of NFT',\n",
    "# #                           type='text',\n",
    "# #                           value=f'{initial_nft}',\n",
    "# #                           debounce=True),\n",
    "# #                 html.Div(\n",
    "# #                     [\n",
    "#                 dcc.Graph(\n",
    "#                     id=\"erc20_bar_chart\",\n",
    "#                     figure=erc20_bar_init,\n",
    "#                 ),\n",
    "#                 html.Div(\n",
    "#                     [\n",
    "#                         html.H5(\"The records of a NFT\",\n",
    "#                                 style={\"text-align\": \"center\"}),\n",
    "#                         dbc.Table.from_dataframe(erc20_table_init,\n",
    "#                                                  striped=True,\n",
    "#                                                  bordered=True,\n",
    "#                                                  hover=True),\n",
    "#                     ],\n",
    "#                     id=\"erc20_table_chart\",\n",
    "#                     style={\n",
    "#                         \"display\": \"flex\",\n",
    "#                         \"flex-direction\": \"column\",\n",
    "#                         \"justify-content\": \"center\"\n",
    "#                     })\n",
    "# #                     ],\n",
    "# #                     style={\n",
    "# #                         \"display\": \"flex\",\n",
    "# #                         \"flex-direction\": \"row\",\n",
    "# #                         \"justify-content\": \"space-around\"\n",
    "# #                     })\n",
    "#             ]),\n",
    "#         ],\n",
    "#         style={\n",
    "#             \"padding\": \"30px\"\n",
    "#         })  # , style={\"border-top\": \"50px #1f8a8c solid\", \"padding\": \"30px\"})\n",
    "# ])"
   ]
  },
  {
   "cell_type": "code",
   "execution_count": 6,
   "id": "7082a0b5",
   "metadata": {},
   "outputs": [],
   "source": [
    "app.layout = html.Div([\n",
    "    html.Div(\n",
    "        [html.H5('R10944033 analyze tool')],\n",
    "        style={\n",
    "            \"display\": \"flex\",\n",
    "            \"flex-direction\": \"row\",\n",
    "            \"justify-content\": \"center\",\n",
    "            \"background-color\": \"#2fa5ba\"\n",
    "        }),\n",
    "])"
   ]
  },
  {
   "cell_type": "code",
   "execution_count": 7,
   "id": "5e1d615b",
   "metadata": {},
   "outputs": [],
   "source": [
    "@app.callback(Output('erc20_bar_chart', 'figure'),\n",
    "              Output('erc20_table_chart', 'figure'),\n",
    "              Input('interest_address', 'value'))\n",
    "def update_erc20(interest_addr):\n",
    "    erc20_table_plot, erc20_bar_plot = get_wallet_erc20_plot(interest_addr)\n",
    "\n",
    "    return erc20_bar_plot, [\n",
    "        html.H5(\"The records of a NFT\", style={\"text-align\": \"center\"}),\n",
    "        dbc.Table.from_dataframe(table_df,\n",
    "                                 striped=True,\n",
    "                                 bordered=True,\n",
    "                                 hover=True)\n",
    "    ]\n",
    "\n",
    "\n",
    "# @app.callback(Output('wallet_pie_chart', 'figure'),\n",
    "#               Output('wallet_line_chart', 'figure'),\n",
    "#               Input('wallet_address_input', 'value'))\n",
    "# def update_ana_wallet(address):\n",
    "#     data = get_wallet_record(address)\n",
    "#     data_records = data[\"records\"]\n",
    "#     pie_chart = pieChartByWallet(data_records)\n",
    "#     line_chart = lineChartbyOp(data_records)\n",
    "\n",
    "#     return pie_chart, line_chart"
   ]
  },
  {
   "cell_type": "code",
   "execution_count": 8,
   "id": "15e64c81",
   "metadata": {},
   "outputs": [
    {
     "name": "stdout",
     "output_type": "stream",
     "text": [
      "Dash is running on http://127.0.0.1:8050/\n",
      "\n",
      " * Serving Flask app '__main__' (lazy loading)\n",
      " * Environment: production\n",
      "\u001b[31m   WARNING: This is a development server. Do not use it in a production deployment.\u001b[0m\n",
      "\u001b[2m   Use a production WSGI server instead.\u001b[0m\n",
      " * Debug mode: on\n"
     ]
    },
    {
     "name": "stderr",
     "output_type": "stream",
     "text": [
      "Traceback (most recent call last):\n",
      "  File \"/Users/tsenghungyen/anaconda3/envs/DAAP/lib/python3.8/site-packages/ipykernel_launcher.py\", line 16, in <module>\n",
      "    app.launch_new_instance()\n",
      "  File \"/Users/tsenghungyen/anaconda3/envs/DAAP/lib/python3.8/site-packages/traitlets/config/application.py\", line 845, in launch_instance\n",
      "    app.initialize(argv)\n",
      "  File \"/Users/tsenghungyen/anaconda3/envs/DAAP/lib/python3.8/site-packages/traitlets/config/application.py\", line 88, in inner\n",
      "    return method(app, *args, **kwargs)\n",
      "  File \"/Users/tsenghungyen/anaconda3/envs/DAAP/lib/python3.8/site-packages/ipykernel/kernelapp.py\", line 632, in initialize\n",
      "    self.init_sockets()\n",
      "  File \"/Users/tsenghungyen/anaconda3/envs/DAAP/lib/python3.8/site-packages/ipykernel/kernelapp.py\", line 282, in init_sockets\n",
      "    self.shell_port = self._bind_socket(self.shell_socket, self.shell_port)\n",
      "  File \"/Users/tsenghungyen/anaconda3/envs/DAAP/lib/python3.8/site-packages/ipykernel/kernelapp.py\", line 229, in _bind_socket\n",
      "    return self._try_bind_socket(s, port)\n",
      "  File \"/Users/tsenghungyen/anaconda3/envs/DAAP/lib/python3.8/site-packages/ipykernel/kernelapp.py\", line 205, in _try_bind_socket\n",
      "    s.bind(\"tcp://%s:%i\" % (self.ip, port))\n",
      "  File \"/Users/tsenghungyen/anaconda3/envs/DAAP/lib/python3.8/site-packages/zmq/sugar/socket.py\", line 214, in bind\n",
      "    super().bind(addr)\n",
      "  File \"zmq/backend/cython/socket.pyx\", line 540, in zmq.backend.cython.socket.Socket.bind\n",
      "  File \"zmq/backend/cython/checkrc.pxd\", line 28, in zmq.backend.cython.checkrc._check_rc\n",
      "zmq.error.ZMQError: Address already in use\n"
     ]
    },
    {
     "ename": "SystemExit",
     "evalue": "1",
     "output_type": "error",
     "traceback": [
      "An exception has occurred, use %tb to see the full traceback.\n",
      "\u001b[0;31mSystemExit\u001b[0m\u001b[0;31m:\u001b[0m 1\n"
     ]
    },
    {
     "name": "stderr",
     "output_type": "stream",
     "text": [
      "/Users/tsenghungyen/anaconda3/envs/DAAP/lib/python3.8/site-packages/IPython/core/interactiveshell.py:3405: UserWarning:\n",
      "\n",
      "To exit: use 'exit', 'quit', or Ctrl-D.\n",
      "\n"
     ]
    }
   ],
   "source": [
    "if __name__ == '__main__':\n",
    "    app.run_server(debug=True)"
   ]
  },
  {
   "cell_type": "code",
   "execution_count": null,
   "id": "256f5970",
   "metadata": {},
   "outputs": [],
   "source": []
  }
 ],
 "metadata": {
  "kernelspec": {
   "display_name": "Python 3 (ipykernel)",
   "language": "python",
   "name": "python3"
  },
  "language_info": {
   "codemirror_mode": {
    "name": "ipython",
    "version": 3
   },
   "file_extension": ".py",
   "mimetype": "text/x-python",
   "name": "python",
   "nbconvert_exporter": "python",
   "pygments_lexer": "ipython3",
   "version": "3.8.13"
  }
 },
 "nbformat": 4,
 "nbformat_minor": 5
}
